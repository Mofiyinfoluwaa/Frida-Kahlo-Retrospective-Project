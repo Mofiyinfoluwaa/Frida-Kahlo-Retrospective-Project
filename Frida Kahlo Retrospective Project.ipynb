{
 "cells": [
  {
   "cell_type": "markdown",
   "metadata": {},
   "source": [
    "# **Task 1**\n",
    "   \n",
    "   First, create a list called `paintings` and add the following titles to it:\n",
    "    \n",
    "    The Two Fridas, My Dress Hangs Here, Tree of Hope, Self Portrait With Monkeys\n"
   ]
  },
  {
   "cell_type": "code",
   "execution_count": 37,
   "metadata": {},
   "outputs": [],
   "source": [
    "paintings = [\"The Two Fridas\",\"My Dress Hangs Here\",\"Tree of Hope\",\"Self Portrait With Monkeys\"]"
   ]
  },
  {
   "cell_type": "markdown",
   "metadata": {},
   "source": [
    "#  **Task 2**\n",
    "    \n",
    "    Next, create a second list called `dates` and give it the following values,\n",
    "    \"`1939, 1933, 1946, 1940`\"\n"
   ]
  },
  {
   "cell_type": "code",
   "execution_count": 38,
   "metadata": {},
   "outputs": [],
   "source": [
    "dates = [1939,1933,1946,1940]"
   ]
  },
  {
   "cell_type": "markdown",
   "metadata": {},
   "source": [
    "# **Task 3**\n",
    "\n",
    "    It doesn't do much good to have the paintings without their dates, and vice versa. \n",
    "    Zip together the two lists so that each painting is paired with its date and resave it to the `paintings` variable. Make sure to convert the zipped object into a list using the `list()` function. Print the results to the terminal to check your work. \"\n",
    "   \n"
   ]
  },
  {
   "cell_type": "code",
   "execution_count": 39,
   "metadata": {},
   "outputs": [
    {
     "name": "stdout",
     "output_type": "stream",
     "text": [
      "[('The Two Fridas', 1939), ('My Dress Hangs Here', 1933), ('Tree of Hope', 1946), ('Self Portrait With Monkeys', 1940)]\n"
     ]
    }
   ],
   "source": [
    "paintings = list(zip(paintings, dates))\n",
    "print(paintings)"
   ]
  },
  {
   "cell_type": "markdown",
   "metadata": {},
   "source": [
    "# **Task 4**\n",
    "\n",
    "    There were some last minute additions to the show that we need to add to our list. Append the following paintings to our `paintings` list then re-print to check they were added correctly,\n",
    "     'The Broken Column', 1944,\n",
    "     'The Wounded Deer', 1946,\n",
    "     'Me and My Doll', 1937,\n",
    "    \n",
    "    \"Hint: Make sure to append each painting individually and that you're appending them as tuples, not lists. \"\n",
    "   \n"
   ]
  },
  {
   "cell_type": "code",
   "execution_count": 40,
   "metadata": {},
   "outputs": [],
   "source": [
    "paintings.append(('The Broken Column', 1944))\n",
    "    "
   ]
  },
  {
   "cell_type": "code",
   "execution_count": 41,
   "metadata": {},
   "outputs": [],
   "source": [
    "paintings.append(('The Wounded Deer', 1946))\n",
    "    "
   ]
  },
  {
   "cell_type": "code",
   "execution_count": 42,
   "metadata": {},
   "outputs": [],
   "source": [
    "paintings.append(('Me and My Doll', 1937))\n",
    "    \n"
   ]
  },
  {
   "cell_type": "code",
   "execution_count": 43,
   "metadata": {},
   "outputs": [
    {
     "name": "stdout",
     "output_type": "stream",
     "text": [
      "[('The Two Fridas', 1939), ('My Dress Hangs Here', 1933), ('Tree of Hope', 1946), ('Self Portrait With Monkeys', 1940), ('The Broken Column', 1944), ('The Wounded Deer', 1946), ('Me and My Doll', 1937)]\n"
     ]
    }
   ],
   "source": [
    "print(paintings)"
   ]
  },
  {
   "cell_type": "markdown",
   "metadata": {},
   "source": [
    "# **Task 5**\n",
    "    Since each of these paintings is going to be in the audio tour, they each need a unique identification number.\n",
    "    But before we assign them a number, we first need to check how many paintings there are in total.\n",
    "    Find the length of the `paintings` list.\"\n",
    "   \n"
   ]
  },
  {
   "cell_type": "code",
   "execution_count": 44,
   "metadata": {},
   "outputs": [
    {
     "data": {
      "text/plain": [
       "7"
      ]
     },
     "execution_count": 44,
     "metadata": {},
     "output_type": "execute_result"
    }
   ],
   "source": [
    "len(paintings)"
   ]
  },
  {
   "cell_type": "markdown",
   "metadata": {},
   "source": [
    "# Task 6\n",
    "    Use the `range` method to generate a list of identification numbers that starts at 1 and is equal in length to our list of items.\n",
    "    Save the list to the variable `audio_tour_number` and check your work by printing the list.\"\n"
   ]
  },
  {
   "cell_type": "code",
   "execution_count": 45,
   "metadata": {},
   "outputs": [
    {
     "name": "stdout",
     "output_type": "stream",
     "text": [
      "[1, 2, 3, 4, 5, 6, 7]\n"
     ]
    }
   ],
   "source": [
    "audio_tour_number = list(range(1, 8))\n",
    "print (audio_tour_number)\n"
   ]
  },
  {
   "cell_type": "markdown",
   "metadata": {},
   "source": [
    "# Task 7 \n",
    "    \n",
    "  We're finally read to create our master list.\n",
    "Zip the `audio_tour_number` list to the `paintings` list and save it as `master_list`.\n",
    "    \n",
    "    \"Hint: Make sure to convert the zipped object into a list using the `list()` function.\"\n"
   ]
  },
  {
   "cell_type": "code",
   "execution_count": 46,
   "metadata": {},
   "outputs": [],
   "source": [
    "master_list = list(zip(audio_tour_number,paintings))"
   ]
  },
  {
   "cell_type": "markdown",
   "metadata": {},
   "source": [
    "# Task 8\n",
    "    \"Print the `master_list` to the terminal.\"\n",
    "  \n"
   ]
  },
  {
   "cell_type": "code",
   "execution_count": 47,
   "metadata": {},
   "outputs": [
    {
     "name": "stdout",
     "output_type": "stream",
     "text": [
      "[(1, ('The Two Fridas', 1939)), (2, ('My Dress Hangs Here', 1933)), (3, ('Tree of Hope', 1946)), (4, ('Self Portrait With Monkeys', 1940)), (5, ('The Broken Column', 1944)), (6, ('The Wounded Deer', 1946)), (7, ('Me and My Doll', 1937))]\n"
     ]
    }
   ],
   "source": [
    "print(master_list)"
   ]
  }
 ],
 "metadata": {
  "kernelspec": {
   "display_name": "Python 3",
   "language": "python",
   "name": "python3"
  },
  "language_info": {
   "codemirror_mode": {
    "name": "ipython",
    "version": 3
   },
   "file_extension": ".py",
   "mimetype": "text/x-python",
   "name": "python",
   "nbconvert_exporter": "python",
   "pygments_lexer": "ipython3",
   "version": "3.8.5"
  }
 },
 "nbformat": 4,
 "nbformat_minor": 4
}
